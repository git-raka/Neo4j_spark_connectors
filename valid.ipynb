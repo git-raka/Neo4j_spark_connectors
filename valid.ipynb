{
 "cells": [
  {
   "cell_type": "code",
   "execution_count": 1,
   "metadata": {},
   "outputs": [],
   "source": [
    "import pandas as pd\n",
    "from pyspark import SparkContext\n",
    "from pyspark.sql.types import StructType\n",
    "from pyspark.sql import SparkSession\n",
    "from pyspark.sql import SQLContext\n",
    "from pyspark.sql.types import *\n",
    "from pyspark.sql.functions import *"
   ]
  },
  {
   "cell_type": "code",
   "execution_count": 2,
   "metadata": {},
   "outputs": [
    {
     "name": "stdout",
     "output_type": "stream",
     "text": [
      "22/10/13 10:07:28 WARN Utils: Your hostname, ddi-nos resolves to a loopback address: 127.0.1.1; using 192.168.18.222 instead (on interface ens160)\n",
      "22/10/13 10:07:28 WARN Utils: Set SPARK_LOCAL_IP if you need to bind to another address\n",
      ":: loading settings :: url = jar:file:/opt/spark/jars/ivy-2.5.0.jar!/org/apache/ivy/core/settings/ivysettings.xml\n"
     ]
    },
    {
     "name": "stderr",
     "output_type": "stream",
     "text": [
      "Ivy Default Cache set to: /home/ddi/.ivy2/cache\n",
      "The jars for the packages stored in: /home/ddi/.ivy2/jars\n",
      "neo4j-contrib#neo4j-connector-apache-spark_2.12 added as a dependency\n",
      ":: resolving dependencies :: org.apache.spark#spark-submit-parent-67dd0a1b-8c26-4c6d-be1a-b32d85ec1b6d;1.0\n",
      "\tconfs: [default]\n",
      "\tfound neo4j-contrib#neo4j-connector-apache-spark_2.12;4.0.1_for_spark_3 in spark-packages\n",
      ":: resolution report :: resolve 674ms :: artifacts dl 20ms\n",
      "\t:: modules in use:\n",
      "\tneo4j-contrib#neo4j-connector-apache-spark_2.12;4.0.1_for_spark_3 from spark-packages in [default]\n",
      "\t---------------------------------------------------------------------\n",
      "\t|                  |            modules            ||   artifacts   |\n",
      "\t|       conf       | number| search|dwnlded|evicted|| number|dwnlded|\n",
      "\t---------------------------------------------------------------------\n",
      "\t|      default     |   1   |   0   |   0   |   0   ||   1   |   0   |\n",
      "\t---------------------------------------------------------------------\n",
      ":: retrieving :: org.apache.spark#spark-submit-parent-67dd0a1b-8c26-4c6d-be1a-b32d85ec1b6d\n",
      "\tconfs: [default]\n",
      "\t0 artifacts copied, 1 already retrieved (0kB/13ms)\n"
     ]
    },
    {
     "name": "stdout",
     "output_type": "stream",
     "text": [
      "22/10/13 10:07:31 WARN NativeCodeLoader: Unable to load native-hadoop library for your platform... using builtin-java classes where applicable\n"
     ]
    },
    {
     "name": "stderr",
     "output_type": "stream",
     "text": [
      "Setting default log level to \"WARN\".\n",
      "To adjust logging level use sc.setLogLevel(newLevel). For SparkR, use setLogLevel(newLevel).\n"
     ]
    },
    {
     "name": "stdout",
     "output_type": "stream",
     "text": [
      "22/10/13 10:07:36 WARN Utils: Service 'SparkUI' could not bind on port 4040. Attempting port 4041.\n",
      "22/10/13 10:07:36 WARN Utils: Service 'SparkUI' could not bind on port 4041. Attempting port 4042.\n"
     ]
    }
   ],
   "source": [
    "spark = SparkSession.builder\\\n",
    "\t.config('spark.jars.packages', 'neo4j-contrib:neo4j-connector-apache-spark_2.12:4.0.1_for_spark_3')\\\n",
    "\t.master(\"local\").appName(\"spark_test\").getOrCreate()"
   ]
  },
  {
   "cell_type": "code",
   "execution_count": 12,
   "metadata": {},
   "outputs": [],
   "source": [
    "booksSchema = StructType() \\\n",
    "                    \t.add(\"cif\", LongType())\\\n",
    "                    \t.add(\"account_no\", StringType())\\\n",
    "                    \t.add(\"open_date\", StringType())"
   ]
  },
  {
   "cell_type": "code",
   "execution_count": 13,
   "metadata": {},
   "outputs": [
    {
     "name": "stdout",
     "output_type": "stream",
     "text": [
      "+-----------+-----------+----------+\n",
      "|        cif| account_no| open_date|\n",
      "+-----------+-----------+----------+\n",
      "|18346875234|  442222452|26-07-2017|\n",
      "|18752032720|13335322450|21-12-2021|\n",
      "|18752032720|13335322472|26-06-2013|\n",
      "|18806746420| 2237072704|19-03-2021|\n",
      "|18806746420|12015201770|16-07-2018|\n",
      "+-----------+-----------+----------+\n",
      "only showing top 5 rows\n",
      "\n"
     ]
    }
   ],
   "source": [
    "account=spark.read.csv(\"hdfs://192.168.18.222:8020/user/hive/warehouse/account/account.csv\", sep = ';', schema=booksSchema)\n",
    "account.show(5)"
   ]
  },
  {
   "cell_type": "code",
   "execution_count": 16,
   "metadata": {},
   "outputs": [
    {
     "name": "stdout",
     "output_type": "stream",
     "text": [
      "+----+----------+---------+---------+--------+-----------+--------------------+\n",
      "|<id>|  <labels>|     type|     name|    city|        cif|             address|\n",
      "+----+----------+---------+---------+--------+-----------+--------------------+\n",
      "|   0|[Customer]|WHOLESALE|     Layo| Jakarta|18346875234|89012 Autumn Leaf...|\n",
      "|   1|[Customer]|WHOLESALE| Topdrive|Surabaya|18752032720|       83 Chive Pass|\n",
      "|   2|[Customer]|WHOLESALE|    Meetz| Bandung|18806746420|9411 Schmedeman C...|\n",
      "|   3|[Customer]|WHOLESALE|     Vipe|  Bekasi|20476940876|4143 Daystar Terrace|\n",
      "|   4|[Customer]|WHOLESALE|Buzzshare|   Medan|19168353628|       6 Ohio Avenue|\n",
      "+----+----------+---------+---------+--------+-----------+--------------------+\n",
      "only showing top 5 rows\n",
      "\n"
     ]
    },
    {
     "name": "stderr",
     "output_type": "stream",
     "text": [
      "                                                                                \r"
     ]
    }
   ],
   "source": [
    "df_test = spark.read.format(\"org.neo4j.spark.DataSource\") \\\n",
    "  .option(\"url\", \"bolt://192.168.18.193:7687\") \\\n",
    "  .option(\"labels\", \"Customer\") \\\n",
    "  .option(\"authentication.basic.username\", \"neo4j\") \\\n",
    "  .option(\"authentication.basic.password\", \"ddi123\") \\\n",
    "  .load()\n",
    "df_test.show(5)"
   ]
  },
  {
   "cell_type": "code",
   "execution_count": 22,
   "metadata": {},
   "outputs": [
    {
     "name": "stderr",
     "output_type": "stream",
     "text": [
      "                                                                                \r"
     ]
    }
   ],
   "source": [
    "account.write \\\n",
    "  .format(\"org.neo4j.spark.DataSource\") \\\n",
    "  .option(\"url\", \"bolt://192.168.18.193:7687\") \\\n",
    "  .option(\"database\", \"testing\") \\\n",
    "  .mode(\"append\") \\\n",
    "  .option(\"authentication.basic.username\", \"neo4j\") \\\n",
    "  .option(\"authentication.basic.password\", \"ddi123\") \\\n",
    "  .option(\"labels\", \":Account\") \\\n",
    "  .save()"
   ]
  }
 ],
 "metadata": {
  "kernelspec": {
   "display_name": "Python 3.8.10 64-bit",
   "language": "python",
   "name": "python3"
  },
  "language_info": {
   "codemirror_mode": {
    "name": "ipython",
    "version": 3
   },
   "file_extension": ".py",
   "mimetype": "text/x-python",
   "name": "python",
   "nbconvert_exporter": "python",
   "pygments_lexer": "ipython3",
   "version": "3.8.10"
  },
  "orig_nbformat": 4,
  "vscode": {
   "interpreter": {
    "hash": "916dbcbb3f70747c44a77c7bcd40155683ae19c65e1c03b4aa3499c5328201f1"
   }
  }
 },
 "nbformat": 4,
 "nbformat_minor": 2
}
